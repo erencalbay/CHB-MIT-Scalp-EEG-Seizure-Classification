{
  "cells": [
    {
      "cell_type": "code",
      "execution_count": null,
      "metadata": {
        "colab": {
          "base_uri": "https://localhost:8080/"
        },
        "id": "JG0PrNsVQyMh",
        "outputId": "8e6cfcf9-d8f6-49ec-f5b6-0c65e404467a"
      },
      "outputs": [
        {
          "name": "stdout",
          "output_type": "stream",
          "text": [
            "Mounted at /content/drive\n"
          ]
        }
      ],
      "source": [
        "from google.colab import drive\n",
        "drive.mount('/content/drive')"
      ]
    },
    {
      "cell_type": "code",
      "execution_count": null,
      "metadata": {
        "id": "U8KGUAT2Q0xI"
      },
      "outputs": [],
      "source": [
        "import os\n",
        "import numpy as np\n",
        "import pywt\n",
        "import csv\n",
        "import pandas as pd\n",
        "!pip install mne\n",
        "import mne\n",
        "from IPython.display import clear_output\n",
        "clear_output()\n",
        "\n",
        "edffilename = \"chb10_89\""
      ]
    },
    {
      "cell_type": "code",
      "execution_count": null,
      "metadata": {
        "colab": {
          "base_uri": "https://localhost:8080/"
        },
        "id": "jKhLZGPsRDqQ",
        "outputId": "b6cc90cd-f799-40cf-ac28-c61cfd38e542"
      },
      "outputs": [
        {
          "name": "stdout",
          "output_type": "stream",
          "text": [
            "Extracting EDF parameters from /content/drive/MyDrive/Dataset_Models/dataset/trail/chb12/chb10_89.edf...\n",
            "EDF file detected\n",
            "Setting channel info structure...\n",
            "Creating raw.info structure...\n"
          ]
        },
        {
          "name": "stderr",
          "output_type": "stream",
          "text": [
            "<ipython-input-3-060c96b64553>:1: RuntimeWarning: Channel names are not unique, found duplicates for: {'T8-P8'}. Applying running numbers for duplicates.\n",
            "  raw = mne.io.read_raw_edf('/content/drive/MyDrive/Dataset_Models/dataset/trail/chb12/'+edffilename+'.edf', preload=True)\n"
          ]
        },
        {
          "name": "stdout",
          "output_type": "stream",
          "text": [
            "Reading 0 ... 1843199  =      0.000 ...  7199.996 secs...\n"
          ]
        }
      ],
      "source": [
        "raw = mne.io.read_raw_edf('/content/drive/MyDrive/Dataset_Models/dataset/trail/chb12/'+edffilename+'.edf', preload=True)"
      ]
    },
    {
      "cell_type": "code",
      "execution_count": null,
      "metadata": {
        "colab": {
          "base_uri": "https://localhost:8080/"
        },
        "id": "n9AfqRePSvfF",
        "outputId": "d5f63b67-4eee-405a-e17d-a6162d65d731"
      },
      "outputs": [
        {
          "name": "stdout",
          "output_type": "stream",
          "text": [
            "['FP1-F7', 'F7-T7', 'T7-P7', 'P7-O1', 'FP1-F3', 'F3-C3', 'C3-P3', 'P3-O1', 'FP2-F4', 'F4-C4', 'C4-P4', 'P4-O2', 'FP2-F8', 'F8-T8', 'T8-P8-0', 'P8-O2', 'FZ-CZ', 'CZ-PZ', 'P7-T7', 'T7-FT9', 'FT9-FT10', 'FT10-T8', 'T8-P8-1']\n"
          ]
        }
      ],
      "source": [
        "print(raw.info['ch_names'])"
      ]
    },
    {
      "cell_type": "code",
      "execution_count": null,
      "metadata": {
        "id": "70tKoafpEYQf"
      },
      "outputs": [],
      "source": [
        "raw = raw.drop_channels([\"--0\", \"--1\", \"--2\", \"--3\", \"--4\", \"T8-P8-1\"], on_missing='ignore')\n",
        "raw = raw.drop_channels([\".-0\", \".-1\", \".-2\", \".-3\", \".-4\", \"T8-P8-1\"], on_missing='ignore')"
      ]
    },
    {
      "cell_type": "code",
      "execution_count": null,
      "metadata": {
        "colab": {
          "base_uri": "https://localhost:8080/"
        },
        "id": "WVKJ2YRFToah",
        "outputId": "bd51dc76-90ea-4d12-ef5f-d32a1b220fc1"
      },
      "outputs": [
        {
          "name": "stdout",
          "output_type": "stream",
          "text": [
            "Filtering raw data in 1 contiguous segment\n",
            "Setting up band-pass filter from 0.1 - 50 Hz\n",
            "\n",
            "IIR filter parameters\n",
            "---------------------\n",
            "Butterworth bandpass zero-phase (two-pass forward and reverse) non-causal filter:\n",
            "- Filter order 16 (effective, after forward-backward)\n",
            "- Cutoffs at 0.10, 50.00 Hz: -6.02, -6.02 dB\n",
            "\n"
          ]
        }
      ],
      "source": [
        "import matplotlib.pyplot as plt\n",
        "# Applying a Butterworth filter\n",
        "raw_filtered = raw.copy().filter(l_freq=0.1, h_freq=50, method='iir', iir_params=dict(order=4, ftype='butter'))"
      ]
    },
    {
      "cell_type": "code",
      "execution_count": null,
      "metadata": {
        "colab": {
          "base_uri": "https://localhost:8080/"
        },
        "id": "BDbyZ5M3Nvdv",
        "outputId": "0754f67c-52d4-4618-afa4-04c3452ea65d"
      },
      "outputs": [
        {
          "name": "stdout",
          "output_type": "stream",
          "text": [
            "label\n",
            "0.0    6869\n",
            "0.5     274\n",
            "1.0      54\n",
            "Name: count, dtype: int64\n"
          ]
        }
      ],
      "source": [
        "import pandas as pd\n",
        "\n",
        "data_path = \"/content/drive/MyDrive/Dataset_Models/dataset/trail/labelcsv6/\"+edffilename+\"_partlabel.csv\"\n",
        "data = pd.read_csv(data_path)\n",
        "\n",
        "label_counts = data['label'].value_counts()\n",
        "print(label_counts)"
      ]
    },
    {
      "cell_type": "code",
      "execution_count": null,
      "metadata": {
        "id": "bEzOsNYoLHGR"
      },
      "outputs": [],
      "source": [
        "df = pd.DataFrame(columns=['part', 'value', 'label'])"
      ]
    },
    {
      "cell_type": "code",
      "execution_count": null,
      "metadata": {
        "id": "97XInCiMHXgI"
      },
      "outputs": [],
      "source": [
        "from scipy.signal import spectrogram\n",
        "import matplotlib.pyplot as plt\n",
        "from matplotlib.backends.backend_agg import FigureCanvasAgg as FigureCanvas\n",
        "import numpy as np\n",
        "from PIL import Image\n",
        "import _pickle as cPickle\n",
        "from io import BytesIO"
      ]
    },
    {
      "cell_type": "code",
      "execution_count": null,
      "metadata": {
        "colab": {
          "background_save": true
        },
        "id": "3jVBhf8FpQuf"
      },
      "outputs": [],
      "source": [
        "your_crop_length = 4  # 4 saniye\n",
        "\n",
        "dflabel = pd.read_csv('/content/drive/MyDrive/Dataset_Models/dataset/trail/labelcsv6/traillabel.csv')\n",
        "# Check part existence\n",
        "for index, row in data.iterrows():\n",
        "    part_exists = row['part'] in dflabel['part'].values\n",
        "    if(part_exists):\n",
        "        x = int(row['part'].split('_')[-1])  # 'chb11_92_x' formatındaki x değerini al\n",
        "        start_time = (x-1)\n",
        "        end_time = start_time + your_crop_length\n",
        "        #print(x, \"-----\" , start_time, \"------\" , end_time)\n",
        "        cropped_raw = raw.copy().crop(tmin=start_time, tmax=end_time)\n",
        "        cropped_raw.copy().resample(sfreq=128)\n",
        "        # Kanalların sayısını ve zaman uzunluğunu alın\n",
        "        n_channels, n_times = cropped_raw.get_data().shape\n",
        "\n",
        "        # Skaleogramları depolamak için bir dizi oluşturun\n",
        "        spectrograms = []\n",
        "        images_rgb = []\n",
        "\n",
        "        # Her bir kanal için skaleogram oluşturma\n",
        "        for i in range(n_channels):\n",
        "            data_single = cropped_raw.get_data()[i]  # Tek bir kanalın verisini alın\n",
        "            #print(data_single)\n",
        "            sfreq = cropped_raw.info['sfreq']\n",
        "            frequencies, times, Sxx = spectrogram(data_single, sfreq)\n",
        "            spectrograms.append(Sxx)\n",
        "            a = 10 * np.log10(spectrograms[i])\n",
        "            a = spectrograms[i]\n",
        "            #print(a)\n",
        "\n",
        "            plt.figure(figsize=(4, 3))\n",
        "            ax = plt.gca()  # Geçerli eksen nesnesini al\n",
        "            ax.imshow(a, aspect=\"auto\", origin=\"lower\")\n",
        "            ax.set_axis_off()  # Eksenleri kapat\n",
        "\n",
        "            #image_name =f'kanal_{i+1}.png'\n",
        "            buffer = BytesIO()\n",
        "            plt.savefig(buffer, format='png', bbox_inches='tight', transparent=True, pad_inches=0.0)\n",
        "            buffer.seek(0)\n",
        "            resim_verisi = buffer.getvalue()\n",
        "            buffer.close()\n",
        "            image = Image.open(BytesIO(resim_verisi))\n",
        "\n",
        "            # Yeni boyutu hesapla\n",
        "            width, height = image.size\n",
        "            print(image.size)\n",
        "            new_size = (width // 2, height // 2)\n",
        "\n",
        "            # Yeniden boyutlandır\n",
        "            image = image.resize(new_size)\n",
        "\n",
        "            image_rgb = np.array(image)\n",
        "            image_rgb = image_rgb[:, :, :3]\n",
        "            #print(image_rgb)\n",
        "            images_rgb.append(image_rgb)\n",
        "        stacked_image = np.vstack(images_rgb)\n",
        "        image = Image.fromarray((stacked_image * 255).astype(np.uint8))\n",
        "        image.save(f\"segment_{start_time}-{end_time}.png\")\n",
        "        #print(stacked_image.shape)\n",
        "        string_holder = '/content/drive/MyDrive/Dataset_Models/dataset/trail/npys6/'+edffilename+'/'+ row['part'] + '.npy'\n",
        "\n",
        "        #print(stacked_image)\n",
        "        pil_image = Image.fromarray(stacked_image)\n",
        "\n",
        "        np.save(string_holder, stacked_image)\n",
        "\n",
        "        #Veri eklemek için bir satır oluştur\n",
        "        new_data = {'part': row['part'], 'value': string_holder, 'label': row['label']}\n",
        "\n",
        "        # DataFrame'e veriyi ekle\n",
        "        df = pd.concat([df, pd.DataFrame([new_data])], ignore_index=True)\n",
        "        #break #-------> test için tek eleman alıp break atıyoruz    #TO DO hash\n",
        "    continue"
      ]
    },
    {
      "cell_type": "code",
      "execution_count": null,
      "metadata": {
        "id": "w1eIiFBWTFKy"
      },
      "outputs": [],
      "source": [
        "# DataFrame'i CSV dosyasına kaydetme\n",
        "df.to_csv('/content/drive/MyDrive/Dataset_Models/dataset/trail/lastcsv6/'+edffilename+'.csv', index=False)"
      ]
    },
    {
      "cell_type": "markdown",
      "metadata": {
        "id": "NGjBksjYt2MF"
      },
      "source": [
        "###BURANIN ÜZERİNİ ÇALIŞTIRICAN"
      ]
    }
  ],
  "metadata": {
    "colab": {
      "machine_shape": "hm",
      "provenance": []
    },
    "kernelspec": {
      "display_name": "Python 3",
      "name": "python3"
    },
    "language_info": {
      "name": "python"
    }
  },
  "nbformat": 4,
  "nbformat_minor": 0
}